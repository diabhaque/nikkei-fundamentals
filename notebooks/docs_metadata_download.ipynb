{
 "cells": [
  {
   "cell_type": "code",
   "execution_count": 16,
   "metadata": {},
   "outputs": [],
   "source": [
    "import datetime\n",
    "import json\n",
    "import os\n",
    "\n",
    "import pandas as pd\n",
    "\n",
    "from utils.edinet_api import get_documents_for_date_range\n",
    "from utils.datapath import edinet_codes_path, docs_metadata_path\n",
    "from utils.common_data import nikkei_225"
   ]
  },
  {
   "cell_type": "code",
   "execution_count": 13,
   "metadata": {},
   "outputs": [],
   "source": [
    "df = pd.read_excel(edinet_codes_path)\n"
   ]
  },
  {
   "cell_type": "code",
   "execution_count": 9,
   "metadata": {},
   "outputs": [],
   "source": [
    "start_date = datetime.date(2024, 1, 1)\n",
    "end_date = datetime.date(2024, 4, 4)"
   ]
  },
  {
   "cell_type": "code",
   "execution_count": 15,
   "metadata": {},
   "outputs": [],
   "source": [
    "doc_type_codes = [\"140\", \"160\"]  # Quarterly and Semi-Annual Reports\n",
    "nikkei_225_edinet_codes = [company[\"edinet_code\"] for company in nikkei_225]"
   ]
  },
  {
   "cell_type": "code",
   "execution_count": 8,
   "metadata": {},
   "outputs": [
    {
     "name": "stdout",
     "output_type": "stream",
     "text": [
      "Requesting documents of type ['140', '160'], filed by:\n",
      "1. KYOWA KIRIN CO., LTD.\n"
     ]
    }
   ],
   "source": [
    "print(f\"Requesting documents of type {doc_type_codes}, filed by:\")\n",
    "for index, company in enumerate(nikkei_225, start=1):\n",
    "    print(f\"{index}. {company[\"company_name\"]}\")\n",
    "    break"
   ]
  },
  {
   "cell_type": "code",
   "execution_count": 9,
   "metadata": {},
   "outputs": [
    {
     "name": "stderr",
     "output_type": "stream",
     "text": [
      "Retrieving documents: 100%|██████████| 95/95 [01:31<00:00,  1.04it/s]\n"
     ]
    }
   ],
   "source": [
    "docs = get_documents_for_date_range(\n",
    "    start_date, end_date, nikkei_225_edinet_codes, doc_type_codes\n",
    ")"
   ]
  },
  {
   "cell_type": "code",
   "execution_count": 14,
   "metadata": {},
   "outputs": [
    {
     "name": "stdout",
     "output_type": "stream",
     "text": [
      "Found 194 matching documents. Saving results:\n"
     ]
    }
   ],
   "source": [
    "print(f\"Found {len(docs)} matching documents. Saving results:\")\n",
    "\n",
    "with open(docs_metadata_path, 'w', encoding='utf-8') as f:\n",
    "    json.dump(docs, f)"
   ]
  },
  {
   "cell_type": "code",
   "execution_count": 21,
   "metadata": {},
   "outputs": [],
   "source": [
    "# Test loading\n",
    "\n",
    "with open(docs_metadata_path) as f:\n",
    "    docs_metadata = json.load(f)"
   ]
  }
 ],
 "metadata": {
  "kernelspec": {
   "display_name": "venv312",
   "language": "python",
   "name": "python3"
  },
  "language_info": {
   "codemirror_mode": {
    "name": "ipython",
    "version": 3
   },
   "file_extension": ".py",
   "mimetype": "text/x-python",
   "name": "python",
   "nbconvert_exporter": "python",
   "pygments_lexer": "ipython3",
   "version": "3.12.0"
  }
 },
 "nbformat": 4,
 "nbformat_minor": 2
}
