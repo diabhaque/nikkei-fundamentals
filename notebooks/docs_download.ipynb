{
 "cells": [
  {
   "cell_type": "code",
   "execution_count": 3,
   "metadata": {},
   "outputs": [],
   "source": [
    "import datetime\n",
    "import json\n",
    "import os\n",
    "\n",
    "import pandas as pd\n",
    "from tqdm import tqdm  # Ensure you have installed tqdm: pip install tqdm\n",
    "\n",
    "from utils.edinet_api import get_document, save_document, FILE_EXT\n",
    "from utils.datapath import edinet_codes_path, nikkei_225_path, docs_metadata_path\n"
   ]
  },
  {
   "cell_type": "code",
   "execution_count": null,
   "metadata": {},
   "outputs": [],
   "source": [
    "# Tasks\n",
    "\n",
    "# Verify doc type codes and include quarterly, semi-annually and yearly\n",
    "# doc_type_codes = [\"140\", \"160\"]  # Quarterly and Semi-Annual Reports\n",
    "\n",
    "# Get list of asset codes for Nikkei225 and industrials in particular - DONE!\n",
    "\n",
    "\n",
    "# Get and store matching document list for Nikkei 225 companies for each year from 2016 onwards - DONE!\n",
    "\n",
    "# Download each document - DONE!\n",
    "\n",
    "# For each quarter, get latest submission date for the documents. Use that as the base date.\n",
    "# Use that as a rebalance date\n",
    "# In every base date, rank the 225 (or K) stocks in the basket using LLM\n",
    "\n",
    "# For each stock in basket, get daily returns\n",
    "# Perform L/S Equity\n",
    "\n",
    "# MAIN BLOCKER:\n",
    "\n",
    "# Get list of stocks - Done!\n",
    "# Map to Edinet ID - Done!\n",
    "# Understand how the mapping works - Done!\n",
    "# ChatGPT API\n",
    "# Time and motivation\n",
    "\n"
   ]
  },
  {
   "cell_type": "code",
   "execution_count": 4,
   "metadata": {},
   "outputs": [],
   "source": [
    "df = pd.read_excel(edinet_codes_path)\n",
    "\n",
    "with open(nikkei_225_path) as f:\n",
    "    nikkei_225 = json.load(f)\n",
    "\n",
    "with open(docs_metadata_path) as f:\n",
    "    docs_metadata = json.load(f)"
   ]
  },
  {
   "cell_type": "code",
   "execution_count": 5,
   "metadata": {},
   "outputs": [],
   "source": [
    "start_date = datetime.date(2024, 1, 1)\n",
    "end_date = datetime.date(2024, 4, 4)"
   ]
  },
  {
   "cell_type": "code",
   "execution_count": 6,
   "metadata": {},
   "outputs": [],
   "source": [
    "# for doc in docs_metadata:\n",
    "#     doc_id = doc['docID']\n",
    "#     edinet_code = doc['edinetCode']\n",
    "#     doc_type_code = doc['docTypeCode']\n",
    "#     filer = doc['filerName']\n",
    "#     save_name = f'{edinet_code}_{filer}_{doc_type_code}_{doc_id}.{FILE_EXT}'\n",
    "#     output_path = os.path.join('..', \"documents\", save_name)\n",
    "#     doc_res = get_document(doc_id)\n",
    "#     save_document(doc_res, output_path)"
   ]
  },
  {
   "cell_type": "code",
   "execution_count": 9,
   "metadata": {},
   "outputs": [
    {
     "name": "stderr",
     "output_type": "stream",
     "text": [
      "Processing documents: 100%|██████████| 194/194 [03:31<00:00,  1.09s/it]\n"
     ]
    }
   ],
   "source": [
    "\n",
    "\n",
    "for doc in tqdm(docs_metadata, desc=\"Processing documents\"):\n",
    "    doc_id = doc['docID']\n",
    "    edinet_code = doc['edinetCode']\n",
    "    doc_type_code = doc['docTypeCode']\n",
    "    filer = doc['filerName']\n",
    "    save_name = f'{edinet_code}_{filer}_{doc_type_code}_{doc_id}.{FILE_EXT}'\n",
    "    output_path = os.path.join('..', \"documents\", save_name)\n",
    "    doc_res = get_document(doc_id)\n",
    "    save_document(doc_res, output_path)"
   ]
  },
  {
   "cell_type": "code",
   "execution_count": null,
   "metadata": {},
   "outputs": [],
   "source": []
  }
 ],
 "metadata": {
  "kernelspec": {
   "display_name": "venv312",
   "language": "python",
   "name": "python3"
  },
  "language_info": {
   "codemirror_mode": {
    "name": "ipython",
    "version": 3
   },
   "file_extension": ".py",
   "mimetype": "text/x-python",
   "name": "python",
   "nbconvert_exporter": "python",
   "pygments_lexer": "ipython3",
   "version": "3.12.0"
  }
 },
 "nbformat": 4,
 "nbformat_minor": 2
}
